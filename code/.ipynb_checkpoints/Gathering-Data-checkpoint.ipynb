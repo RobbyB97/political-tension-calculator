{
 "cells": [
  {
   "cell_type": "markdown",
   "id": "5653d990",
   "metadata": {},
   "source": [
    "# Gathering Data"
   ]
  },
  {
   "cell_type": "code",
   "execution_count": 9,
   "id": "5d91031a",
   "metadata": {},
   "outputs": [],
   "source": [
    "import pandas as pd\n",
    "import requests\n",
    "import matplotlib.pyplot as plt\n",
    "from bs4 import BeautifulSoup as bs\n",
    "import html\n",
    "import json"
   ]
  },
  {
   "cell_type": "code",
   "execution_count": 2,
   "id": "c8ae21d7",
   "metadata": {},
   "outputs": [
    {
     "name": "stdout",
     "output_type": "stream",
     "text": [
      "<urllib3.response.HTTPResponse object at 0x7fb7391ee430>\n"
     ]
    }
   ],
   "source": [
    "url = r'https://www.rev.com/blog/transcripts/we-have-evidence-of-russian-war-crimes-says-ukraine-prosecutor-general-4-04-22-transcript'\n",
    "headers = {\"User-agent\": 'rsantayana'} \n",
    "\n",
    "res = requests.get(url, headers=headers)\n",
    "if res.status_code == 200:\n",
    "    subreddit_json = res.raw\n",
    "    print(subreddit_json)"
   ]
  },
  {
   "cell_type": "markdown",
   "id": "b2941212",
   "metadata": {},
   "source": [
    "### Scrape Kremlin website for transcripts"
   ]
  },
  {
   "cell_type": "code",
   "execution_count": 20,
   "id": "3e68b063",
   "metadata": {},
   "outputs": [
    {
     "name": "stdout",
     "output_type": "stream",
     "text": [
      "<p><b>Pavel Zarubin</b>: Mr President, tensions are escalating on the border\n",
      "between the EU and Belarus. The European Union has already deployed army\n",
      "troops. Moreover, they are building up the contingent. You spoke with Angela Merkel\n",
      "twice, and you also spoke with Alexander Lukashenko. Why they do not speak to each other directly is probably also a question I would like to ask you. In general, what do you think of the developments there? </p>\n",
      "<p><b>President of Russia Vladimir Putin</b>: To begin with, why they do not speak\n",
      "with each other is not a question for me. We have nothing to do with that. But\n",
      "I inferred from my conversations with President Lukashenko and Chancellor Merkel\n",
      "that they are ready to speak with one another. I hope it will happen soon and some\n",
      "sort of direct contact will be established between the European Union, the EU\n",
      "leading nations, or at least between the Federal Republic of Germany and Belarus. This is crucial because the migrants’ goal is primarily to get into\n",
      "Germany. </p>\n",
      "'NoneType' object has no attribute 'text'\n"
     ]
    }
   ],
   "source": [
    "url = r'http://www.en.kremlin.ru/events/president/transcripts/interviews/67100'\n",
    "headers = {\"User-agent\": \"rdata\"}\n",
    "\n",
    "try:\n",
    "    res = requests.get(url, headers=headers)\n",
    "    if res.status_code == 200:\n",
    "        transcript_html = res.text\n",
    "    else: \n",
    "        raise Exception(res.status_code)\n",
    "    \n",
    "    soup = bs(transcript_html, \"html\")\n",
    "    entry_content = soup.find(\"div\", class_=\"entry-content\")\n",
    "    entry_paragraphs = entry_content.find_all(\"p\")\n",
    "    \n",
    "    statements = []\n",
    "    last_speaker = \"\"\n",
    "    for p in entry_paragraphs:\n",
    "        speaker = p.find(\"b\").text\n",
    "        if (speaker == None):\n",
    "            speaker = last_speaker\n",
    "            \n",
    "        statement = p.text\n",
    "        print([speaker, statement])\n",
    "        \n",
    "        \n",
    "        print(speaker)\n",
    "        \n",
    "        \n",
    "    \n",
    "except Exception as e:\n",
    "    print(e)\n",
    "    \n",
    "\n",
    "    "
   ]
  },
  {
   "cell_type": "code",
   "execution_count": null,
   "id": "810cfe34",
   "metadata": {},
   "outputs": [],
   "source": []
  }
 ],
 "metadata": {
  "kernelspec": {
   "display_name": "Python 3 (ipykernel)",
   "language": "python",
   "name": "python3"
  },
  "language_info": {
   "codemirror_mode": {
    "name": "ipython",
    "version": 3
   },
   "file_extension": ".py",
   "mimetype": "text/x-python",
   "name": "python",
   "nbconvert_exporter": "python",
   "pygments_lexer": "ipython3",
   "version": "3.9.13"
  }
 },
 "nbformat": 4,
 "nbformat_minor": 5
}
