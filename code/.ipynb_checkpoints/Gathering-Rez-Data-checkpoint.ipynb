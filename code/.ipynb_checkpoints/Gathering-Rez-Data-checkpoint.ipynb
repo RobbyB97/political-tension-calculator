{
 "cells": [
  {
   "cell_type": "markdown",
   "id": "8dfa1bb5",
   "metadata": {},
   "source": [
    "# Gathering Data\n",
    "## Imports"
   ]
  },
  {
   "cell_type": "code",
   "execution_count": 1,
   "id": "5d91031a",
   "metadata": {},
   "outputs": [],
   "source": [
    "import pandas as pd\n",
    "import requests\n",
    "import matplotlib.pyplot as plt\n",
    "from bs4 import BeautifulSoup\n",
    "import html\n",
    "import json\n",
    "\n",
    "# header used for each request\n",
    "headers = {\"User-agent\": 'rsantayana'} "
   ]
  },
  {
   "cell_type": "markdown",
   "id": "dc3c2a9d",
   "metadata": {},
   "source": [
    "## Reading One Transcript\n",
    "### `ref_transcripts` Dataframe"
   ]
  },
  {
   "cell_type": "code",
   "execution_count": 2,
   "id": "c8ae21d7",
   "metadata": {},
   "outputs": [],
   "source": [
    "url = r'https://www.rev.com/blog/transcripts/we-have-evidence-of-russian-war-crimes-says-ukraine-prosecutor-general-4-04-22-transcript'\n",
    "headers = {\"User-agent\": 'rsantayana'} \n",
    "res = requests.get(url, headers=headers)\n",
    "if res.status_code == 200:\n",
    "    html = res.text"
   ]
  },
  {
   "cell_type": "code",
   "execution_count": 3,
   "id": "9abba0cd",
   "metadata": {},
   "outputs": [],
   "source": [
    "# parsing the result of the scrape to HTML\n",
    "soup = BeautifulSoup(html, \"html.parser\")"
   ]
  },
  {
   "cell_type": "code",
   "execution_count": 4,
   "id": "404e788d",
   "metadata": {
    "scrolled": true
   },
   "outputs": [
    {
     "name": "stdout",
     "output_type": "stream",
     "text": [
      "['Speaker 1: (00:00)', 'Joining us now, Ukraine’s Prosecutor General Iryna Venediktova. If you could please tell us, we understand the atrocities are not confined to Bucha. What else can you report? What other cities and what other atrocities can you report to us?']\n",
      "\n",
      "['Iryna Venediktova: (00:19)', 'Good morning, dear friends. At first, of course, I want to ask your citizens for this huge support during our very hard days. We started more than 4,000 criminal cases, only about war crimes. And these case are absolutely different by their size. From one case, we have concrete facts of murders of our civilians. In other case, for example, like our anchor case about Russian aggression, we have now 214 suspects, and this is top militaries and top politicians and peace from Russian Federation. We have evidence from absolutely different regions of our country about war crimes, about using prohibited weapons, about bombing civilian objects, about killing, and you see now, it’s in Kyiv region, about just murders of our civilians: women, kids, elderly people. When it was only February of this year and it was Thursday so from [inaudible 00:01:38], it was very terrible situation when Russian troops attacked elderly house and 56 elderly people were murdered. And these facts, we have unfortunately in big wanted.']\n",
      "\n",
      "['Speaker 3: (01:57)', 'At some point, this war will be over. And when it is over, let me ask you, what should Vladimir Putin, what should Foreign Minister Lavrov, what sort of justice should Russian generals and commanders and soldiers face?']\n",
      "\n",
      "['Iryna Venediktova: (02:14)', 'Of course, we understand who are responsible for this war, who should be punished for this war, and this is not only concrete individuals who killed our citizens; it is Russian authorities who give them these orders. This why we have in Ukraine, four main approaches. One of them, it’s our criminal investigation. This 4,000 about which I just told. Other one, it is coordination and support investigation of International Criminal Court. And I trust prosecutor of International Criminal Court who can investigate and war crimes and the crimes against humanity and other possibilities. I don’t want to say now words of genocide, but maybe we can qualify such crimes as a genocide. The third approach, it is joint investigation team. For now, we have joint investigation team with the [inaudible 00:03:18] and Poland. And our next approach, it is starting the criminal proceedings in other national jurisdictions. Now, 10 European countries started their own criminal cases about war crimes in Ukraine.']\n",
      "\n",
      "['Speaker 4: (03:34)', 'Ms. Venediktova, want to give you the official opportunity to respond to what Russia, again, this morning is claiming. Sergei Lavrov, the Foreign Minister himself, that the images we’re seeing out of Bucha are made up; that the bodies are fake, and that this is a crime scene planted by the Ukrainian government to engender sympathy from the world. What do you say to that?']\n",
      "\n",
      "['Iryna Venediktova: (03:56)', 'I even can’t imagine that Ministry of Foreign Affairs can be a liar. Actually, it’s very strange when such high level of politicians can make such answers. That’s why, of course, for us very important not only speak about this. For us, very important to demonstrate the whole world our evidence and actually concrete proofs of these war crimes.']\n",
      "\n",
      "['Speaker 1: (04:29)', 'All right. Ukraine’s Prosecutor General Iryna Venediktova, thank you very much for joining us this morning.']\n",
      "\n"
     ]
    }
   ],
   "source": [
    "# finding the tag and class that contains the transcribed speech\n",
    "transcript = soup.find(name='div', attrs={'class': 'fl-callout-text-wrap'})\n",
    "# html that contains the speech and person behind the speech\n",
    "speaker_texts = [clob.text for clob in transcript.find_all('p')]\n",
    "# set of speakers in the transcript\n",
    "speakers = set([speaker_text.split('\\n')[0].split(':')[0] for speaker_text in speaker_texts])\n",
    "for speaker_text in speaker_texts:\n",
    "    print(speaker_text.split('\\n'))\n",
    "    print()"
   ]
  },
  {
   "cell_type": "code",
   "execution_count": 5,
   "id": "40be6d9b",
   "metadata": {},
   "outputs": [
    {
     "data": {
      "text/plain": [
       "'‘We Have Evidence’ Of Russian War Crimes, Says Ukraine Prosecutor General 4/04/22 Transcript'"
      ]
     },
     "execution_count": 5,
     "metadata": {},
     "output_type": "execute_result"
    }
   ],
   "source": [
    "# getting the title of the transcript\n",
    "transcript_title = soup.find('span', attrs={'class':'fl-heading-text'}).text\n",
    "transcript_title"
   ]
  },
  {
   "cell_type": "code",
   "execution_count": 6,
   "id": "977a596c",
   "metadata": {},
   "outputs": [
    {
     "data": {
      "text/plain": [
       "'Apr 4, 2022'"
      ]
     },
     "execution_count": 6,
     "metadata": {},
     "output_type": "execute_result"
    }
   ],
   "source": [
    "# getting the date transcript was posted\n",
    "date_of_speech = soup.find('div', attrs={'class': 'fl-rich-text'}).text.strip('\\n')\n",
    "date_of_speech"
   ]
  },
  {
   "cell_type": "code",
   "execution_count": 7,
   "id": "70bb80c3",
   "metadata": {},
   "outputs": [
    {
     "data": {
      "text/plain": [
       "transcript_id                                                       0\n",
       "transcript_title    ‘We Have Evidence’ Of Russian War Crimes, Says...\n",
       "speakers            {Speaker 3, Speaker 4, Iryna Venediktova, Spea...\n",
       "date_of_speech                                            Apr 4, 2022\n",
       "url                 https://www.rev.com/blog/transcripts/we-have-e...\n",
       "dtype: object"
      ]
     },
     "execution_count": 7,
     "metadata": {},
     "output_type": "execute_result"
    }
   ],
   "source": [
    "# creating the dictionary that represents one record in the ref_transcripts dataframe\n",
    "transcript_metadata = {'transcript_id': 0,\n",
    "                      'transcript_title': transcript_title,\n",
    "                       'speakers': speakers,\n",
    "                       'date_of_speech': date_of_speech,\n",
    "                       'url': url\n",
    "                      }\n",
    "pd.Series(transcript_metadata)"
   ]
  },
  {
   "cell_type": "markdown",
   "id": "9c22b1da",
   "metadata": {},
   "source": [
    "### `transcripts` Dataframe"
   ]
  },
  {
   "cell_type": "code",
   "execution_count": 8,
   "id": "f91d44d1",
   "metadata": {
    "scrolled": true
   },
   "outputs": [
    {
     "name": "stdout",
     "output_type": "stream",
     "text": [
      "['Speaker 1: (00:00)', 'Joining us now, Ukraine’s Prosecutor General Iryna Venediktova. If you could please tell us, we understand the atrocities are not confined to Bucha. What else can you report? What other cities and what other atrocities can you report to us?']\n",
      "\n",
      "['Iryna Venediktova: (00:19)', 'Good morning, dear friends. At first, of course, I want to ask your citizens for this huge support during our very hard days. We started more than 4,000 criminal cases, only about war crimes. And these case are absolutely different by their size. From one case, we have concrete facts of murders of our civilians. In other case, for example, like our anchor case about Russian aggression, we have now 214 suspects, and this is top militaries and top politicians and peace from Russian Federation. We have evidence from absolutely different regions of our country about war crimes, about using prohibited weapons, about bombing civilian objects, about killing, and you see now, it’s in Kyiv region, about just murders of our civilians: women, kids, elderly people. When it was only February of this year and it was Thursday so from [inaudible 00:01:38], it was very terrible situation when Russian troops attacked elderly house and 56 elderly people were murdered. And these facts, we have unfortunately in big wanted.']\n",
      "\n",
      "['Speaker 3: (01:57)', 'At some point, this war will be over. And when it is over, let me ask you, what should Vladimir Putin, what should Foreign Minister Lavrov, what sort of justice should Russian generals and commanders and soldiers face?']\n",
      "\n",
      "['Iryna Venediktova: (02:14)', 'Of course, we understand who are responsible for this war, who should be punished for this war, and this is not only concrete individuals who killed our citizens; it is Russian authorities who give them these orders. This why we have in Ukraine, four main approaches. One of them, it’s our criminal investigation. This 4,000 about which I just told. Other one, it is coordination and support investigation of International Criminal Court. And I trust prosecutor of International Criminal Court who can investigate and war crimes and the crimes against humanity and other possibilities. I don’t want to say now words of genocide, but maybe we can qualify such crimes as a genocide. The third approach, it is joint investigation team. For now, we have joint investigation team with the [inaudible 00:03:18] and Poland. And our next approach, it is starting the criminal proceedings in other national jurisdictions. Now, 10 European countries started their own criminal cases about war crimes in Ukraine.']\n",
      "\n",
      "['Speaker 4: (03:34)', 'Ms. Venediktova, want to give you the official opportunity to respond to what Russia, again, this morning is claiming. Sergei Lavrov, the Foreign Minister himself, that the images we’re seeing out of Bucha are made up; that the bodies are fake, and that this is a crime scene planted by the Ukrainian government to engender sympathy from the world. What do you say to that?']\n",
      "\n",
      "['Iryna Venediktova: (03:56)', 'I even can’t imagine that Ministry of Foreign Affairs can be a liar. Actually, it’s very strange when such high level of politicians can make such answers. That’s why, of course, for us very important not only speak about this. For us, very important to demonstrate the whole world our evidence and actually concrete proofs of these war crimes.']\n",
      "\n",
      "['Speaker 1: (04:29)', 'All right. Ukraine’s Prosecutor General Iryna Venediktova, thank you very much for joining us this morning.']\n",
      "\n"
     ]
    }
   ],
   "source": [
    "for speaker_text in speaker_texts:\n",
    "    print(speaker_text.split('\\n'))\n",
    "    print()"
   ]
  },
  {
   "cell_type": "code",
   "execution_count": 9,
   "id": "6a45b71c",
   "metadata": {},
   "outputs": [
    {
     "data": {
      "text/plain": [
       "['Speaker 1',\n",
       " 'Iryna Venediktova',\n",
       " 'Speaker 3',\n",
       " 'Iryna Venediktova',\n",
       " 'Speaker 4',\n",
       " 'Iryna Venediktova',\n",
       " 'Speaker 1']"
      ]
     },
     "execution_count": 9,
     "metadata": {},
     "output_type": "execute_result"
    }
   ],
   "source": [
    "# getting list of \n",
    "[speaker_text.split(':')[0] for speaker_text in speaker_texts]"
   ]
  },
  {
   "cell_type": "code",
   "execution_count": 10,
   "id": "1f44be5a",
   "metadata": {},
   "outputs": [
    {
     "data": {
      "text/plain": [
       "['Joining us now, Ukraine’s Prosecutor General Iryna Venediktova. If you could please tell us, we understand the atrocities are not confined to Bucha. What else can you report? What other cities and what other atrocities can you report to us?',\n",
       " 'Good morning, dear friends. At first, of course, I want to ask your citizens for this huge support during our very hard days. We started more than 4,000 criminal cases, only about war crimes. And these case are absolutely different by their size. From one case, we have concrete facts of murders of our civilians. In other case, for example, like our anchor case about Russian aggression, we have now 214 suspects, and this is top militaries and top politicians and peace from Russian Federation. We have evidence from absolutely different regions of our country about war crimes, about using prohibited weapons, about bombing civilian objects, about killing, and you see now, it’s in Kyiv region, about just murders of our civilians',\n",
       " 'At some point, this war will be over. And when it is over, let me ask you, what should Vladimir Putin, what should Foreign Minister Lavrov, what sort of justice should Russian generals and commanders and soldiers face?',\n",
       " 'Of course, we understand who are responsible for this war, who should be punished for this war, and this is not only concrete individuals who killed our citizens; it is Russian authorities who give them these orders. This why we have in Ukraine, four main approaches. One of them, it’s our criminal investigation. This 4,000 about which I just told. Other one, it is coordination and support investigation of International Criminal Court. And I trust prosecutor of International Criminal Court who can investigate and war crimes and the crimes against humanity and other possibilities. I don’t want to say now words of genocide, but maybe we can qualify such crimes as a genocide. The third approach, it is joint investigation team. For now, we have joint investigation team with the [inaudible 00',\n",
       " 'Ms. Venediktova, want to give you the official opportunity to respond to what Russia, again, this morning is claiming. Sergei Lavrov, the Foreign Minister himself, that the images we’re seeing out of Bucha are made up; that the bodies are fake, and that this is a crime scene planted by the Ukrainian government to engender sympathy from the world. What do you say to that?',\n",
       " 'I even can’t imagine that Ministry of Foreign Affairs can be a liar. Actually, it’s very strange when such high level of politicians can make such answers. That’s why, of course, for us very important not only speak about this. For us, very important to demonstrate the whole world our evidence and actually concrete proofs of these war crimes.',\n",
       " 'All right. Ukraine’s Prosecutor General Iryna Venediktova, thank you very much for joining us this morning.']"
      ]
     },
     "execution_count": 10,
     "metadata": {},
     "output_type": "execute_result"
    }
   ],
   "source": [
    "[speaker_text.split(':')[2].split('\\n')[1] for speaker_text in speaker_texts]"
   ]
  },
  {
   "cell_type": "code",
   "execution_count": null,
   "id": "8f2332e4",
   "metadata": {},
   "outputs": [],
   "source": []
  },
  {
   "cell_type": "code",
   "execution_count": 11,
   "id": "db931fa2",
   "metadata": {},
   "outputs": [
    {
     "data": {
      "text/html": [
       "<div>\n",
       "<style scoped>\n",
       "    .dataframe tbody tr th:only-of-type {\n",
       "        vertical-align: middle;\n",
       "    }\n",
       "\n",
       "    .dataframe tbody tr th {\n",
       "        vertical-align: top;\n",
       "    }\n",
       "\n",
       "    .dataframe thead th {\n",
       "        text-align: right;\n",
       "    }\n",
       "</style>\n",
       "<table border=\"1\" class=\"dataframe\">\n",
       "  <thead>\n",
       "    <tr style=\"text-align: right;\">\n",
       "      <th></th>\n",
       "      <th>article_id</th>\n",
       "      <th>speaker</th>\n",
       "      <th>speech</th>\n",
       "    </tr>\n",
       "  </thead>\n",
       "  <tbody>\n",
       "    <tr>\n",
       "      <th>0</th>\n",
       "      <td>0</td>\n",
       "      <td>Speaker 1</td>\n",
       "      <td>Joining us now, Ukraine’s Prosecutor General I...</td>\n",
       "    </tr>\n",
       "    <tr>\n",
       "      <th>1</th>\n",
       "      <td>0</td>\n",
       "      <td>Iryna Venediktova</td>\n",
       "      <td>Good morning, dear friends. At first, of cours...</td>\n",
       "    </tr>\n",
       "    <tr>\n",
       "      <th>2</th>\n",
       "      <td>0</td>\n",
       "      <td>Speaker 3</td>\n",
       "      <td>At some point, this war will be over. And when...</td>\n",
       "    </tr>\n",
       "    <tr>\n",
       "      <th>3</th>\n",
       "      <td>0</td>\n",
       "      <td>Iryna Venediktova</td>\n",
       "      <td>Of course, we understand who are responsible f...</td>\n",
       "    </tr>\n",
       "    <tr>\n",
       "      <th>4</th>\n",
       "      <td>0</td>\n",
       "      <td>Speaker 4</td>\n",
       "      <td>Ms. Venediktova, want to give you the official...</td>\n",
       "    </tr>\n",
       "    <tr>\n",
       "      <th>5</th>\n",
       "      <td>0</td>\n",
       "      <td>Iryna Venediktova</td>\n",
       "      <td>I even can’t imagine that Ministry of Foreign ...</td>\n",
       "    </tr>\n",
       "    <tr>\n",
       "      <th>6</th>\n",
       "      <td>0</td>\n",
       "      <td>Speaker 1</td>\n",
       "      <td>All right. Ukraine’s Prosecutor General Iryna ...</td>\n",
       "    </tr>\n",
       "  </tbody>\n",
       "</table>\n",
       "</div>"
      ],
      "text/plain": [
       "   article_id            speaker  \\\n",
       "0           0          Speaker 1   \n",
       "1           0  Iryna Venediktova   \n",
       "2           0          Speaker 3   \n",
       "3           0  Iryna Venediktova   \n",
       "4           0          Speaker 4   \n",
       "5           0  Iryna Venediktova   \n",
       "6           0          Speaker 1   \n",
       "\n",
       "                                              speech  \n",
       "0  Joining us now, Ukraine’s Prosecutor General I...  \n",
       "1  Good morning, dear friends. At first, of cours...  \n",
       "2  At some point, this war will be over. And when...  \n",
       "3  Of course, we understand who are responsible f...  \n",
       "4  Ms. Venediktova, want to give you the official...  \n",
       "5  I even can’t imagine that Ministry of Foreign ...  \n",
       "6  All right. Ukraine’s Prosecutor General Iryna ...  "
      ]
     },
     "execution_count": 11,
     "metadata": {},
     "output_type": "execute_result"
    }
   ],
   "source": [
    "transcripts = {\n",
    "    'article_id': 0,\n",
    "    'speaker': [speaker_text.split(':')[0] for speaker_text in speaker_texts],\n",
    "    'speech': [speaker_text.split(':')[2].split('\\n')[1] for speaker_text in speaker_texts]\n",
    "}\n",
    "pd.DataFrame(transcripts)"
   ]
  },
  {
   "cell_type": "code",
   "execution_count": 12,
   "id": "4e734c90",
   "metadata": {},
   "outputs": [
    {
     "data": {
      "text/html": [
       "<div>\n",
       "<style scoped>\n",
       "    .dataframe tbody tr th:only-of-type {\n",
       "        vertical-align: middle;\n",
       "    }\n",
       "\n",
       "    .dataframe tbody tr th {\n",
       "        vertical-align: top;\n",
       "    }\n",
       "\n",
       "    .dataframe thead th {\n",
       "        text-align: right;\n",
       "    }\n",
       "</style>\n",
       "<table border=\"1\" class=\"dataframe\">\n",
       "  <thead>\n",
       "    <tr style=\"text-align: right;\">\n",
       "      <th></th>\n",
       "      <th>article_id</th>\n",
       "      <th>speaker</th>\n",
       "      <th>speech</th>\n",
       "    </tr>\n",
       "  </thead>\n",
       "  <tbody>\n",
       "    <tr>\n",
       "      <th>0</th>\n",
       "      <td>0</td>\n",
       "      <td>Speaker 1</td>\n",
       "      <td>Joining us now, Ukraine’s Prosecutor General I...</td>\n",
       "    </tr>\n",
       "    <tr>\n",
       "      <th>1</th>\n",
       "      <td>0</td>\n",
       "      <td>Iryna Venediktova</td>\n",
       "      <td>Good morning, dear friends. At first, of cours...</td>\n",
       "    </tr>\n",
       "    <tr>\n",
       "      <th>2</th>\n",
       "      <td>0</td>\n",
       "      <td>Speaker 3</td>\n",
       "      <td>At some point, this war will be over. And when...</td>\n",
       "    </tr>\n",
       "    <tr>\n",
       "      <th>3</th>\n",
       "      <td>0</td>\n",
       "      <td>Iryna Venediktova</td>\n",
       "      <td>Of course, we understand who are responsible f...</td>\n",
       "    </tr>\n",
       "    <tr>\n",
       "      <th>4</th>\n",
       "      <td>0</td>\n",
       "      <td>Speaker 4</td>\n",
       "      <td>Ms. Venediktova, want to give you the official...</td>\n",
       "    </tr>\n",
       "    <tr>\n",
       "      <th>5</th>\n",
       "      <td>0</td>\n",
       "      <td>Iryna Venediktova</td>\n",
       "      <td>I even can’t imagine that Ministry of Foreign ...</td>\n",
       "    </tr>\n",
       "    <tr>\n",
       "      <th>6</th>\n",
       "      <td>0</td>\n",
       "      <td>Speaker 1</td>\n",
       "      <td>All right. Ukraine’s Prosecutor General Iryna ...</td>\n",
       "    </tr>\n",
       "  </tbody>\n",
       "</table>\n",
       "</div>"
      ],
      "text/plain": [
       "   article_id            speaker  \\\n",
       "0           0          Speaker 1   \n",
       "1           0  Iryna Venediktova   \n",
       "2           0          Speaker 3   \n",
       "3           0  Iryna Venediktova   \n",
       "4           0          Speaker 4   \n",
       "5           0  Iryna Venediktova   \n",
       "6           0          Speaker 1   \n",
       "\n",
       "                                              speech  \n",
       "0  Joining us now, Ukraine’s Prosecutor General I...  \n",
       "1  Good morning, dear friends. At first, of cours...  \n",
       "2  At some point, this war will be over. And when...  \n",
       "3  Of course, we understand who are responsible f...  \n",
       "4  Ms. Venediktova, want to give you the official...  \n",
       "5  I even can’t imagine that Ministry of Foreign ...  \n",
       "6  All right. Ukraine’s Prosecutor General Iryna ...  "
      ]
     },
     "execution_count": 12,
     "metadata": {},
     "output_type": "execute_result"
    }
   ],
   "source": [
    "pd.DataFrame(transcripts)"
   ]
  },
  {
   "cell_type": "markdown",
   "id": "5efb7fe1",
   "metadata": {},
   "source": [
    "## Getting all Rev Transcripts\n",
    "We will scrape all Rev transcripts and then determine which ones are worth feeding into the model or not."
   ]
  },
  {
   "cell_type": "markdown",
   "id": "1f499aab",
   "metadata": {},
   "source": [
    "*__Notes:__*\n",
    "\n",
    "https://sparkbyexamples.com/pandas/how-to-append-row-to-pandas-dataframe/\n",
    "\n",
    "Appending rows into an existing dataframe"
   ]
  },
  {
   "cell_type": "code",
   "execution_count": 13,
   "id": "4ed9fead",
   "metadata": {},
   "outputs": [],
   "source": [
    "rev_category_urls = [r'https://www.rev.com/blog/transcript-category/2020-election-transcripts',\n",
    "                     r'https://www.rev.com/blog/transcript-category/2022-elections',\n",
    "                     r'https://www.rev.com/blog/transcript-category/congressional-testimony-hearing-transcripts',\n",
    "                     r'https://www.rev.com/blog/transcript-category/debate-transcripts',\n",
    "                     r'https://www.rev.com/blog/transcript-category/donald-trump-transcripts',\n",
    "                     r'https://www.rev.com/blog/transcript-category/financial-transcripts',\n",
    "                     r'https://www.rev.com/blog/transcript-category/interview-transcripts',\n",
    "                     r'https://www.rev.com/blog/transcript-category/john-kirby',\n",
    "                     r'https://www.rev.com/blog/transcript-category/ketanji-brown-jackson',\n",
    "                     r'https://www.rev.com/blog/transcript-category/news-transcripts',\n",
    "                     r'https://www.rev.com/blog/transcript-category/pentagon',\n",
    "                     r'https://www.rev.com/blog/transcript-category/political-transcripts',\n",
    "                     r'https://www.rev.com/blog/transcript-category/president-biden-transcripts',\n",
    "                     r'https://www.rev.com/blog/transcript-category/white-house-correspondents-association',\n",
    "                     r'https://www.rev.com/blog/transcript-category/white-house-briefing',\n",
    "                     r'https://www.rev.com/blog/transcript-category/ukraine',\n",
    "                     r'https://www.rev.com/blog/transcript-category/supreme-court',\n",
    "                     r'https://www.rev.com/blog/transcript-category/state-department-briefing',\n",
    "                     r'https://www.rev.com/blog/transcript-category/speech-transcripts',\n",
    "                     r'https://www.rev.com/blog/transcript-category/science-transcripts',\n",
    "                     r'https://www.rev.com/blog/transcript-category/russia-ukraine-conflict',\n",
    "                     r'https://www.rev.com/blog/transcript-category/russia',\n",
    "                     r'https://www.rev.com/blog/transcript-category/press-conference-transcripts',\n",
    "                     r'https://www.rev.com/blog/transcript-category/press-briefing'\n",
    "                 ]"
   ]
  },
  {
   "cell_type": "markdown",
   "id": "ead6501e",
   "metadata": {},
   "source": [
    "# CONTINUE HERE"
   ]
  },
  {
   "cell_type": "code",
   "execution_count": 19,
   "id": "d2f40e68",
   "metadata": {},
   "outputs": [],
   "source": [
    "transcript_id = list()\n",
    "transcript_title = list()\n",
    "transcript_url = list()\n",
    "speakers = list()\n",
    "date_of_speech = list()\n",
    "\n",
    "for rev_url in rev_category_urls:\n",
    "    # try to successfully complete request for current category\n",
    "    res = requests.get(rev_url, headers=headers)\n",
    "    if res.status_code == 200:\n",
    "        html = res.text\n",
    "    # print which url is not receiving a 200 status code\n",
    "    else:\n",
    "        print(f'Unable to get a 200 status code from {rev_url}. Validate the data. Status code: {res.status_code}')\n",
    "        print()\n",
    "    soup = BeautifulSoup(html, \"html.parser\")\n",
    "    # finding the tag and class that contains the transcribed speech\n",
    "    transcript = soup.find(name='div', attrs={'class': 'fl-callout-text-wrap'})\n",
    "    # html that contains the speech and person behind the speech\n",
    "    speaker_texts = [clob.text for clob in transcript.find_all('p')]\n",
    "    # set of speakers in the transcript\n",
    "    speakers = list(set([speaker_text.split('\\n')[0].split(':')[0] for speaker_text in speaker_texts]))"
   ]
  },
  {
   "cell_type": "code",
   "execution_count": 21,
   "id": "89b09445",
   "metadata": {
    "scrolled": true
   },
   "outputs": [
    {
     "data": {
      "text/plain": [
       "['Speaker 1: (00:00)\\nJoining us now, Ukraine’s Prosecutor General Iryna Venediktova. If you could please tell us, we understand the atrocities are not confined to Bucha. What else can you report? What other cities and what other atrocities can you report to us?',\n",
       " 'Iryna Venediktova: (00:19)\\nGood morning, dear friends. At first, of course, I want to ask your citizens for this huge support during our very hard days. We started more than 4,000 criminal cases, only about war crimes. And these case are absolutely different by their size. From one case, we have concrete facts of murders of our civilians. In other case, for example, like our anchor case about Russian aggression, we have now 214 suspects, and this is top militaries and top politicians and peace from Russian Federation. We have evidence from absolutely different regions of our country about war crimes, about using prohibited weapons, about bombing civilian objects, about killing, and you see now, it’s in Kyiv region, about just murders of our civilians: women, kids, elderly people. When it was only February of this year and it was Thursday so from [inaudible 00:01:38], it was very terrible situation when Russian troops attacked elderly house and 56 elderly people were murdered. And these facts, we have unfortunately in big wanted.',\n",
       " 'Speaker 3: (01:57)\\nAt some point, this war will be over. And when it is over, let me ask you, what should Vladimir Putin, what should Foreign Minister Lavrov, what sort of justice should Russian generals and commanders and soldiers face?',\n",
       " 'Iryna Venediktova: (02:14)\\nOf course, we understand who are responsible for this war, who should be punished for this war, and this is not only concrete individuals who killed our citizens; it is Russian authorities who give them these orders. This why we have in Ukraine, four main approaches. One of them, it’s our criminal investigation. This 4,000 about which I just told. Other one, it is coordination and support investigation of International Criminal Court. And I trust prosecutor of International Criminal Court who can investigate and war crimes and the crimes against humanity and other possibilities. I don’t want to say now words of genocide, but maybe we can qualify such crimes as a genocide. The third approach, it is joint investigation team. For now, we have joint investigation team with the [inaudible 00:03:18] and Poland. And our next approach, it is starting the criminal proceedings in other national jurisdictions. Now, 10 European countries started their own criminal cases about war crimes in Ukraine.',\n",
       " 'Speaker 4: (03:34)\\nMs. Venediktova, want to give you the official opportunity to respond to what Russia, again, this morning is claiming. Sergei Lavrov, the Foreign Minister himself, that the images we’re seeing out of Bucha are made up; that the bodies are fake, and that this is a crime scene planted by the Ukrainian government to engender sympathy from the world. What do you say to that?',\n",
       " 'Iryna Venediktova: (03:56)\\nI even can’t imagine that Ministry of Foreign Affairs can be a liar. Actually, it’s very strange when such high level of politicians can make such answers. That’s why, of course, for us very important not only speak about this. For us, very important to demonstrate the whole world our evidence and actually concrete proofs of these war crimes.',\n",
       " 'Speaker 1: (04:29)\\nAll right. Ukraine’s Prosecutor General Iryna Venediktova, thank you very much for joining us this morning.']"
      ]
     },
     "execution_count": 21,
     "metadata": {},
     "output_type": "execute_result"
    }
   ],
   "source": [
    "speaker_texts = [clob.text for clob in transcript.find_all('p')]\n",
    "speaker_texts"
   ]
  },
  {
   "cell_type": "code",
   "execution_count": null,
   "id": "9055327e",
   "metadata": {},
   "outputs": [],
   "source": []
  }
 ],
 "metadata": {
  "kernelspec": {
   "display_name": "Python 3 (ipykernel)",
   "language": "python",
   "name": "python3"
  },
  "language_info": {
   "codemirror_mode": {
    "name": "ipython",
    "version": 3
   },
   "file_extension": ".py",
   "mimetype": "text/x-python",
   "name": "python",
   "nbconvert_exporter": "python",
   "pygments_lexer": "ipython3",
   "version": "3.9.12"
  }
 },
 "nbformat": 4,
 "nbformat_minor": 5
}
