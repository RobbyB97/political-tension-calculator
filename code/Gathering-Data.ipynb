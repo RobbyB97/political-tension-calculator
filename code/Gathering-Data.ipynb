{
 "cells": [
  {
   "cell_type": "markdown",
   "id": "5653d990",
   "metadata": {},
   "source": [
    "# Gathering Data"
   ]
  },
  {
   "cell_type": "code",
   "execution_count": 8,
   "id": "5d91031a",
   "metadata": {},
   "outputs": [],
   "source": [
    "import pandas as pd\n",
    "import requests\n",
    "import matplotlib.pyplot as plt\n",
    "from bs4 import BeautifulSoup as bs\n",
    "import html\n",
    "import json"
   ]
  },
  {
   "cell_type": "code",
   "execution_count": 11,
   "id": "c8ae21d7",
   "metadata": {},
   "outputs": [],
   "source": [
    "url = r'https://www.rev.com/blog/transcripts/we-have-evidence-of-russian-war-crimes-says-ukraine-prosecutor-general-4-04-22-transcript'\n",
    "headers = {\"User-agent\": 'rsantayana'} \n",
    "\n",
    "res = requests.get(url, headers=headers)\n",
    "if res.status_code == 200:\n",
    "    subreddit_json = res.raw"
   ]
  },
  {
   "cell_type": "code",
   "execution_count": null,
   "id": "3e68b063",
   "metadata": {},
   "outputs": [],
   "source": []
  }
 ],
 "metadata": {
  "kernelspec": {
   "display_name": "Python 3 (ipykernel)",
   "language": "python",
   "name": "python3"
  },
  "language_info": {
   "codemirror_mode": {
    "name": "ipython",
    "version": 3
   },
   "file_extension": ".py",
   "mimetype": "text/x-python",
   "name": "python",
   "nbconvert_exporter": "python",
   "pygments_lexer": "ipython3",
   "version": "3.9.12"
  }
 },
 "nbformat": 4,
 "nbformat_minor": 5
}
